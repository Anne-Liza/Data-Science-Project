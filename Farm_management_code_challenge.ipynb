{
  "cells": [
    {
      "cell_type": "markdown",
      "metadata": {
        "id": "view-in-github",
        "colab_type": "text"
      },
      "source": [
        "<a href=\"https://colab.research.google.com/github/Anne-Liza/Data-Science-Project/blob/main/Farm_management_code_challenge.ipynb\" target=\"_parent\"><img src=\"https://colab.research.google.com/assets/colab-badge.svg\" alt=\"Open In Colab\"/></a>"
      ]
    },
    {
      "cell_type": "markdown",
      "metadata": {
        "id": "1m9hIh0JCxaU"
      },
      "source": [
        "<div align=\"center\" style=\" font-size: 80%; text-align: center; margin: 0 auto\">\n",
        "<img src=\"https://raw.githubusercontent.com/Explore-AI/Pictures/master/Python-Notebook-Banners/Code_challenge.png\"  style=\"display: block; margin-left: auto; margin-right: auto;\";/>\n",
        "</div>"
      ],
      "id": "1m9hIh0JCxaU"
    },
    {
      "cell_type": "markdown",
      "id": "f662d169",
      "metadata": {
        "id": "f662d169"
      },
      "source": [
        "# Code challenge: Farm harvest management\n"
      ]
    },
    {
      "cell_type": "markdown",
      "id": "26af890c",
      "metadata": {
        "id": "26af890c"
      },
      "source": [
        "In this code challenge, we will assist a farmer in calculating the total harvest from two fields (wheat and potatoes) and the overall expenses and profits for this season.\n",
        "\n"
      ]
    },
    {
      "cell_type": "markdown",
      "id": "2d230d14",
      "metadata": {
        "tags": [],
        "id": "2d230d14"
      },
      "source": [
        "## Learning objectives\n",
        "\n",
        "In this train, we will:\n",
        "- Understand how to perform basic arithmetic operations in a Jupyter notebook.\n",
        "- Know how to assign numerical values to variables.\n",
        "- Know how to use the print() function to display our results.\n"
      ]
    },
    {
      "cell_type": "markdown",
      "metadata": {
        "id": "bjWODvb7CxaY"
      },
      "source": [
        "## Instructions\n",
        "\n",
        "- **This code challenge does not count for marks.**\n",
        "- Do not add or remove cells in this notebook.\n",
        "- Answer the questions according to the specifications provided.\n",
        "- Use the given cell in each question to see if your function matches the expected outputs."
      ],
      "id": "bjWODvb7CxaY"
    },
    {
      "cell_type": "markdown",
      "metadata": {
        "id": "WTplCbLICxaZ"
      },
      "source": [
        "## Challenge 1\n",
        "Calculate the total harvest for the farmer."
      ],
      "id": "WTplCbLICxaZ"
    },
    {
      "cell_type": "code",
      "execution_count": 1,
      "metadata": {
        "colab": {
          "base_uri": "https://localhost:8080/"
        },
        "id": "Q-_rXYL9CxaZ",
        "outputId": "00f8c25d-9391-473c-8a37-0701d9f97863"
      },
      "outputs": [
        {
          "output_type": "stream",
          "name": "stdout",
          "text": [
            "Total harvest in kilograms: 5650\n"
          ]
        }
      ],
      "source": [
        "total_kgs_wheat_harvest = 2050\n",
        "total_kgs_potato_harvest = 3600\n",
        "\n",
        "total_kgs_harvest = total_kgs_wheat_harvest + total_kgs_potato_harvest\n",
        "print(\"Total harvest in kilograms:\", total_kgs_harvest)"
      ],
      "id": "Q-_rXYL9CxaZ"
    },
    {
      "cell_type": "markdown",
      "metadata": {
        "id": "w2eOUNTECxaa"
      },
      "source": [
        "**Expected outputs:**\n",
        "```python\n",
        "Total harvest in kilograms: 5650\n",
        "```"
      ],
      "id": "w2eOUNTECxaa"
    },
    {
      "cell_type": "markdown",
      "metadata": {
        "id": "BP7J6jN_Cxaa"
      },
      "source": [
        "## Challenge 2\n",
        "Calculate the total expenses (in dollars) and print the result."
      ],
      "id": "BP7J6jN_Cxaa"
    },
    {
      "cell_type": "code",
      "execution_count": 2,
      "metadata": {
        "colab": {
          "base_uri": "https://localhost:8080/"
        },
        "id": "CTTGaerfCxab",
        "outputId": "32ec230f-61da-4e4e-b172-e7d4d7ac5a20"
      },
      "outputs": [
        {
          "output_type": "stream",
          "name": "stdout",
          "text": [
            "Total_expenses_dollars: 3720\n"
          ]
        }
      ],
      "source": [
        "seed_expense = 650\n",
        "labour_expense = 3070\n",
        "\n",
        "total_expenses_dollars = seed_expense + labour_expense\n",
        "print(\"Total_expenses_dollars:\", total_expenses_dollars)"
      ],
      "id": "CTTGaerfCxab"
    },
    {
      "cell_type": "markdown",
      "metadata": {
        "id": "R2ZbSh_dCxab"
      },
      "source": [
        "**Expected outputs:**\n",
        "```python\n",
        "Total expenses in dollars: 3720\n",
        "```"
      ],
      "id": "R2ZbSh_dCxab"
    },
    {
      "cell_type": "markdown",
      "metadata": {
        "id": "GIyIAA-SCxab"
      },
      "source": [
        "## Challenge 3\n",
        "Calculate the total revenue (in dollars) and print the result."
      ],
      "id": "GIyIAA-SCxab"
    },
    {
      "cell_type": "code",
      "execution_count": 7,
      "metadata": {
        "colab": {
          "base_uri": "https://localhost:8080/"
        },
        "id": "RhesGKKOCxab",
        "outputId": "7fc85a83-ed4a-45bb-ca19-4584b2a6f86a"
      },
      "outputs": [
        {
          "output_type": "stream",
          "name": "stdout",
          "text": [
            "Total_revenue_dollars: 9140.0\n"
          ]
        }
      ],
      "source": [
        "price_per_kg_wheat = 2\n",
        "price_per_kg_potato = 1.4\n",
        "\n",
        "total_revenue_dollars = (price_per_kg_wheat * total_kgs_wheat_harvest) + (price_per_kg_potato * total_kgs_potato_harvest)\n",
        "print(\"Total_revenue_dollars:\", total_revenue_dollars)"
      ],
      "id": "RhesGKKOCxab"
    },
    {
      "cell_type": "markdown",
      "metadata": {
        "id": "aXrCVfPeCxab"
      },
      "source": [
        "**Expected outputs:**\n",
        "```python\n",
        "Total revenue in dollars: 9140\n",
        "```"
      ],
      "id": "aXrCVfPeCxab"
    },
    {
      "cell_type": "markdown",
      "metadata": {
        "id": "xNbtNu83Cxab"
      },
      "source": [
        "## Challenge 4\n",
        "Calculate the total profit (in dollars) and print the result."
      ],
      "id": "xNbtNu83Cxab"
    },
    {
      "cell_type": "code",
      "execution_count": 9,
      "metadata": {
        "colab": {
          "base_uri": "https://localhost:8080/"
        },
        "id": "yL1n7Rt8Cxac",
        "outputId": "376773db-384b-4aff-84d3-a0a8d8f239f8"
      },
      "outputs": [
        {
          "output_type": "stream",
          "name": "stdout",
          "text": [
            "Total_profit_dollars: 5420.0\n"
          ]
        }
      ],
      "source": [
        "total_profit_dollars = total_revenue_dollars - total_expenses_dollars\n",
        "print(\"Total_profit_dollars:\", total_profit_dollars)"
      ],
      "id": "yL1n7Rt8Cxac"
    },
    {
      "cell_type": "markdown",
      "metadata": {
        "id": "LsXgMhQMCxac"
      },
      "source": [
        "**Expected outputs:**\n",
        "```python\n",
        "Total profit in dollars: 5420\n",
        "```"
      ],
      "id": "LsXgMhQMCxac"
    },
    {
      "cell_type": "markdown",
      "id": "26fd094b-0fee-46f1-a4b8-73766813c42b",
      "metadata": {
        "tags": [],
        "id": "26fd094b-0fee-46f1-a4b8-73766813c42b"
      },
      "source": [
        "#  \n",
        "\n",
        "<div align=\"center\" style=\" font-size: 80%; text-align: center; margin: 0 auto\">\n",
        "<img src=\"https://raw.githubusercontent.com/Explore-AI/Pictures/refs/heads/master/ALX_banners/ALX_Navy.png\"  style=\"width:140px\";/>\n",
        "</div>"
      ]
    }
  ],
  "metadata": {
    "kernelspec": {
      "display_name": "Python 3 (ipykernel)",
      "language": "python",
      "name": "python3"
    },
    "language_info": {
      "codemirror_mode": {
        "name": "ipython",
        "version": 3
      },
      "file_extension": ".py",
      "mimetype": "text/x-python",
      "name": "python",
      "nbconvert_exporter": "python",
      "pygments_lexer": "ipython3",
      "version": "3.11.5"
    },
    "colab": {
      "provenance": [],
      "include_colab_link": true
    }
  },
  "nbformat": 4,
  "nbformat_minor": 5
}